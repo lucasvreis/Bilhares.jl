{
 "cells": [
  {
   "cell_type": "code",
   "execution_count": 1,
   "metadata": {},
   "outputs": [
    {
     "data": {
      "text/plain": [
       "PyObject <module 'matplotlib.animation' from '/usr/lib/python3/dist-packages/matplotlib/animation.py'>"
      ]
     },
     "execution_count": 1,
     "metadata": {},
     "output_type": "execute_result"
    }
   ],
   "source": [
    "using Revise\n",
    "includet(\"../src/BilharesMarkov.jl\")\n",
    "using .BilharesMarkov\n",
    "using DynamicalBilliards, PyCall\n",
    "using StaticArrays, SparseArrays, Arpack\n",
    "using LinearAlgebra, Statistics\n",
    "using PyPlot, BenchmarkTools\n",
    "const SV = SVector{2}\n",
    "anim = pyimport(\"matplotlib.animation\")"
   ]
  },
  {
   "cell_type": "code",
   "execution_count": 2,
   "metadata": {},
   "outputs": [],
   "source": [
    "pygui(true);"
   ]
  },
  {
   "cell_type": "code",
   "execution_count": 60,
   "metadata": {},
   "outputs": [
    {
     "data": {
      "text/plain": [
       "Billiard{Float64} with 5 obstacles:\n",
       "  Disk\n",
       "  Bottom wall\n",
       "  Right wall\n",
       "  Top wall\n",
       "  Left wall"
      ]
     },
     "execution_count": 60,
     "metadata": {},
     "output_type": "execute_result"
    }
   ],
   "source": [
    "# bd = Billiard(Ellipse(SV(0.,0.),6.,1.,false));\n",
    "bd = billiard_sinai()\n",
    "# plot(bd)"
   ]
  },
  {
   "cell_type": "code",
   "execution_count": 61,
   "metadata": {},
   "outputs": [],
   "source": [
    "c = randominside_xyφ(bd)\n",
    "ps = [Particle(c[1],c[2],c[3]+0.01i) for i in 1:10]\n",
    "animate_evolution(ps,bd,20,resetting=x->nothing,framerate=40)"
   ]
  },
  {
   "cell_type": "code",
   "execution_count": 14,
   "metadata": {},
   "outputs": [
    {
     "data": {
      "text/plain": [
       "(PyObject <matplotlib.axes._subplots.AxesSubplot object at 0x7f368535ebe0>, PyObject <matplotlib.axes._subplots.AxesSubplot object at 0x7f368452afa0>)"
      ]
     },
     "execution_count": 14,
     "metadata": {},
     "output_type": "execute_result"
    }
   ],
   "source": [
    "N = 10\n",
    "bmap, arcs = parallelize(boundarymap, bd, 100, N)\n",
    "colrs = [\"C$(rand(1:9))\" for i in 1:N] # random colors\n",
    "plot_boundarymap(bmap,arcs; color=colrs)"
   ]
  },
  {
   "cell_type": "code",
   "execution_count": 42,
   "metadata": {},
   "outputs": [],
   "source": [
    "P = map_markov(bd, 10000, 1, 20, 20);"
   ]
  },
  {
   "cell_type": "code",
   "execution_count": 29,
   "metadata": {},
   "outputs": [
    {
     "data": {
      "text/plain": [
       "PyObject <matplotlib.image.AxesImage object at 0x7f3671a8bb50>"
      ]
     },
     "execution_count": 29,
     "metadata": {},
     "output_type": "execute_result"
    }
   ],
   "source": [
    "imshow(P)"
   ]
  },
  {
   "cell_type": "code",
   "execution_count": 22,
   "metadata": {},
   "outputs": [
    {
     "data": {
      "text/plain": [
       "anim1 (generic function with 1 method)"
      ]
     },
     "execution_count": 22,
     "metadata": {},
     "output_type": "execute_result"
    }
   ],
   "source": [
    "function anim1(P)\n",
    "    fig = figure(\"MyFigure\",figsize=(5,5))\n",
    "    Pt = copy(P)\n",
    "    img = imshow(Pt)\n",
    "\n",
    "    # Define the init function, which draws the first frame (empty, in this case)\n",
    "    function init()\n",
    "        img.set_data([[],[]])\n",
    "        return (img,\"\")  # Union{} is the new word for None\n",
    "    end\n",
    "\n",
    "    # # Animate draws the i-th frame, where i starts at i=0 as in Python.\n",
    "    function update(i)\n",
    "        Pt *= P\n",
    "        img.set_data(Pt ./ maximum(Pt))\n",
    "        return (img,\"\")  # Union{} is the new word for None\n",
    "    end\n",
    "\n",
    "    ani = anim.FuncAnimation(fig, update, frames=60,\n",
    "    init_func=init, blit=false)\n",
    "\n",
    "#     ani.save(\"elip.gif\", writer=\"PillowWriter\", fps=5)\n",
    "    plt.show()\n",
    "end"
   ]
  },
  {
   "cell_type": "code",
   "execution_count": 38,
   "metadata": {},
   "outputs": [],
   "source": [
    "anim1(P)"
   ]
  },
  {
   "cell_type": "code",
   "execution_count": 44,
   "metadata": {},
   "outputs": [
    {
     "data": {
      "text/plain": [
       "1-element Array{PyObject,1}:\n",
       " PyObject <matplotlib.lines.Line2D object at 0x7f365ef444c0>"
      ]
     },
     "execution_count": 44,
     "metadata": {},
     "output_type": "execute_result"
    }
   ],
   "source": [
    "plt.axes(ylim=(0,0.02))\n",
    "plot(prob_estacionária(P))"
   ]
  },
  {
   "cell_type": "code",
   "execution_count": 43,
   "metadata": {},
   "outputs": [
    {
     "data": {
      "text/plain": [
       "3-element Array{Complex{Float64},1}:\n",
       "   1.000000000000001 + 0.0im\n",
       " -0.9828729830170868 - 0.10819955395846202im\n",
       " -0.9828729830170868 + 0.10819955395846202im"
      ]
     },
     "execution_count": 43,
     "metadata": {},
     "output_type": "execute_result"
    }
   ],
   "source": [
    "eigs(P';nev=3,which=:LM,ritzvec=false)[1]"
   ]
  },
  {
   "cell_type": "code",
   "execution_count": 115,
   "metadata": {},
   "outputs": [
    {
     "name": "stderr",
     "output_type": "stream",
     "text": [
      "\u001b[32mProgress: 100%|█████████████████████████████████████████| Time: 0:00:04\u001b[39m\n"
     ]
    },
    {
     "data": {
      "text/plain": [
       "1-element Array{PyObject,1}:\n",
       " PyObject <matplotlib.lines.Line2D object at 0x7fdf252cfd30>"
      ]
     },
     "execution_count": 115,
     "metadata": {},
     "output_type": "execute_result"
    }
   ],
   "source": [
    "# bd = Billiard(Ellipse(SV(0.,0.),2.,1.,false));\n",
    "bd = billiard_iris()\n",
    "bla, tr = média_temporal(bd,50000,1000,10)\n",
    "plt.axes(ylim=(0,maximum(tr)))\n",
    "hlines(100,0,100)\n",
    "plot(tr)\n"
   ]
  },
  {
   "cell_type": "code",
   "execution_count": null,
   "metadata": {},
   "outputs": [],
   "source": []
  }
 ],
 "metadata": {
  "kernelspec": {
   "display_name": "Julia 1.4.0",
   "language": "julia",
   "name": "julia-1.4"
  },
  "language_info": {
   "file_extension": ".jl",
   "mimetype": "application/julia",
   "name": "julia",
   "version": "1.4.0"
  }
 },
 "nbformat": 4,
 "nbformat_minor": 4
}
